{
 "cells": [
  {
   "cell_type": "markdown",
   "metadata": {},
   "source": [
    "# Testing the size of the aggregated Hypercube"
   ]
  },
  {
   "cell_type": "markdown",
   "metadata": {},
   "source": [
    "Used CP-Nets"
   ]
  },
  {
   "cell_type": "code",
   "execution_count": 2,
   "metadata": {},
   "outputs": [],
   "source": [
    "# list of names to use\n",
    "files = [\"cpnet_n2c1d2_0000.xml\", \"cpnet_n2c1d2_0001.xml\"]\n",
    "\n",
    "# get n value\n",
    "n = files[0][7:9]\n",
    "if not n.isdigit():\n",
    "    n = n[0]\n",
    "n = int(n)    \n",
    "    \n",
    "# should we check whether n value is the same for all files??          "
   ]
  },
  {
   "cell_type": "code",
   "execution_count": 3,
   "metadata": {},
   "outputs": [],
   "source": [
    "\"\"\"\n",
    "genrates a list of the used variables\n",
    "\"\"\"\n",
    "def get_variables(n):\n",
    "    vars = []\n",
    "    for i in range(1,n+1):\n",
    "        vars.append(\"x\" + str(i))\n",
    "    return vars \n",
    "\n",
    "variables = get_variables(n)"
   ]
  },
  {
   "cell_type": "markdown",
   "metadata": {},
   "source": [
    "Helper functions for generating a data structure of the XML files"
   ]
  },
  {
   "cell_type": "markdown",
   "metadata": {},
   "source": [
    "This only functions for binary domain cpnets!! (because the data structure simplifies the preference)"
   ]
  },
  {
   "cell_type": "code",
   "execution_count": 4,
   "metadata": {},
   "outputs": [],
   "source": [
    "\"\"\"\n",
    "forms a string representing the preference, e.g. x1=2  (from x1 and 2:1) \n",
    "meaning x1=2 is preferred over x1=1\n",
    "\"\"\"\n",
    "def reform_pref_string(variable, preference):\n",
    "    new_string = variable + \"=\" + preference.split(\":\")[0]\n",
    "\n",
    "\"\"\"\n",
    "Input - ordered dict of a CP-Net formed by xmltodict\n",
    "Output - a dictionary representing the rules\n",
    "\"\"\"\n",
    "def generating_rules(cpnet_dict):\n",
    "    rules = {}\n",
    "    for rule in cpnet_dict['PREFERENCE-SPECIFICATION']['PREFERENCE-STATEMENT']:\n",
    "        variable_name = rule['PREFERENCE-VARIABLE'] #e.g. x1\n",
    "        preference = rule['PREFERENCE'] #e.g. 2:1\n",
    "        conditions = []\n",
    "        if len(rule) > 3: # can be a list of conditions or a single item e.g. x2=2 or [x1=2, x2=2]\n",
    "            conditions = rule['CONDITION']\n",
    "            if type(rule['CONDITION']) is str:\n",
    "                conditions = [conditions]\n",
    "            \n",
    "        cond_set = frozenset(conditions)\n",
    "        pref = reform_pref_string(variable_name, preference)\n",
    "        \n",
    "        # add rule to the dictionary\n",
    "        if cond_set in rules:\n",
    "            rules[cond_set].append(pref)\n",
    "        else:\n",
    "            rules[cond_set] = [pref]\n",
    "            \n",
    "    return rules              "
   ]
  },
  {
   "cell_type": "markdown",
   "metadata": {},
   "source": [
    "Reading XML files and generating a data structure which represent the rules of the CP-Net (a list of dictionaries)"
   ]
  },
  {
   "cell_type": "code",
   "execution_count": 5,
   "metadata": {
    "scrolled": true
   },
   "outputs": [],
   "source": [
    "import xmltodict\n",
    "\n",
    "cp_list = []\n",
    "for file in files:\n",
    "    with open(\"./CPNets/\" + file) as fd:\n",
    "        doc = xmltodict.parse(fd.read())\n",
    "        cp = generating_rules(doc)\n",
    "        cp_list.append(cp)\n",
    "               "
   ]
  },
  {
   "cell_type": "markdown",
   "metadata": {},
   "source": [
    "Aggregating the CP-Nets to one hypercube CP-Net"
   ]
  },
  {
   "cell_type": "code",
   "execution_count": 11,
   "metadata": {},
   "outputs": [
    {
     "name": "stdout",
     "output_type": "stream",
     "text": [
      "(['x1', 'x2', 'x3', 'x4'], ['x2', 'x3', 'x4'])\n",
      "(['x2', 'x3', 'x4'], ['x3', 'x4'])\n",
      "(['x3', 'x4'], ['x4'])\n",
      "(['x4'], [])\n",
      "(['x3', 'x4'], ['x3'])\n",
      "(['x3'], [])\n",
      "(['x2', 'x3', 'x4'], ['x2', 'x4'])\n",
      "(['x2', 'x4'], ['x4'])\n",
      "(['x4'], [])\n",
      "(['x2', 'x4'], ['x2'])\n",
      "(['x2'], [])\n",
      "(['x2', 'x3', 'x4'], ['x2', 'x3'])\n",
      "(['x2', 'x3'], ['x3'])\n",
      "(['x3'], [])\n",
      "(['x2', 'x3'], ['x2'])\n",
      "(['x2'], [])\n",
      "(['x1', 'x2', 'x3', 'x4'], ['x1', 'x3', 'x4'])\n",
      "(['x1', 'x3', 'x4'], ['x3', 'x4'])\n",
      "(['x3', 'x4'], ['x4'])\n",
      "(['x4'], [])\n",
      "(['x3', 'x4'], ['x3'])\n",
      "(['x3'], [])\n",
      "(['x1', 'x3', 'x4'], ['x1', 'x4'])\n",
      "(['x1', 'x4'], ['x4'])\n",
      "(['x4'], [])\n",
      "(['x1', 'x4'], ['x1'])\n",
      "(['x1'], [])\n",
      "(['x1', 'x3', 'x4'], ['x1', 'x3'])\n",
      "(['x1', 'x3'], ['x3'])\n",
      "(['x3'], [])\n",
      "(['x1', 'x3'], ['x1'])\n",
      "(['x1'], [])\n",
      "(['x1', 'x2', 'x3', 'x4'], ['x1', 'x2', 'x4'])\n",
      "(['x1', 'x2', 'x4'], ['x2', 'x4'])\n",
      "(['x2', 'x4'], ['x4'])\n",
      "(['x4'], [])\n",
      "(['x2', 'x4'], ['x2'])\n",
      "(['x2'], [])\n",
      "(['x1', 'x2', 'x4'], ['x1', 'x4'])\n",
      "(['x1', 'x4'], ['x4'])\n",
      "(['x4'], [])\n",
      "(['x1', 'x4'], ['x1'])\n",
      "(['x1'], [])\n",
      "(['x1', 'x2', 'x4'], ['x1', 'x2'])\n",
      "(['x1', 'x2'], ['x2'])\n",
      "(['x2'], [])\n",
      "(['x1', 'x2'], ['x1'])\n",
      "(['x1'], [])\n",
      "(['x1', 'x2', 'x3', 'x4'], ['x1', 'x2', 'x3'])\n",
      "(['x1', 'x2', 'x3'], ['x2', 'x3'])\n",
      "(['x2', 'x3'], ['x3'])\n",
      "(['x3'], [])\n",
      "(['x2', 'x3'], ['x2'])\n",
      "(['x2'], [])\n",
      "(['x1', 'x2', 'x3'], ['x1', 'x3'])\n",
      "(['x1', 'x3'], ['x3'])\n",
      "(['x3'], [])\n",
      "(['x1', 'x3'], ['x1'])\n",
      "(['x1'], [])\n",
      "(['x1', 'x2', 'x3'], ['x1', 'x2'])\n",
      "(['x1', 'x2'], ['x2'])\n",
      "(['x2'], [])\n",
      "(['x1', 'x2'], ['x1'])\n",
      "(['x1'], [])\n"
     ]
    }
   ],
   "source": [
    "\"\"\"\n",
    "Generator for tuples of neighbours in the hypercube graph. Returns only positive variables.\n",
    "If not included, the variable is negative.\n",
    "TODO: Works though, but generates things double...\n",
    "\"\"\"\n",
    "def neighbours(seq_orig):\n",
    "    seq = seq_orig.copy()\n",
    "    for item in range(len(seq)):\n",
    "        seq.pop(item)    \n",
    "        yield (seq_orig, seq)\n",
    "        yield from neighbours(seq)\n",
    "        seq = seq_orig.copy()\n",
    "\n",
    "#seq = [\"x1\", \"x2\", \"x3\", \"x4\"]        \n",
    "#for i  in neighbours(seq):\n",
    "#    print(i)"
   ]
  },
  {
   "cell_type": "code",
   "execution_count": 7,
   "metadata": {},
   "outputs": [],
   "source": [
    "\"\"\"\n",
    "Helper function for formatting\n",
    "Input: two neighbours as returned by neighbour function\n",
    "Output: Tuple - first element the varying variable between the elements, second element set of constant variables\n",
    "\"\"\"\n",
    "def diff_neighbours(seq1, seq2):\n",
    "    ones = set(seq1).intersection(seq2)\n",
    "    varying = set(seq1).difference(seq2)\n",
    "    twos = set(variables).difference(seq1)\n",
    "    return (varying, set([i+\"=1\" for i in ones]).union([i+\"=2\" for i in twos]))\n"
   ]
  },
  {
   "cell_type": "code",
   "execution_count": 8,
   "metadata": {},
   "outputs": [],
   "source": [
    "\"\"\"\n",
    "For searching for matching rules in the dictionary (for a pair of neighbours in the hypercube)\n",
    "\"\"\"\n",
    "def matching_preferences(dictionary, premises):\n",
    "    rules = []\n",
    "    for key in dictionary:\n",
    "        if key <= premises:\n",
    "            rules.append(dictionary[key])\n",
    "    return rules        "
   ]
  },
  {
   "cell_type": "code",
   "execution_count": 9,
   "metadata": {},
   "outputs": [],
   "source": [
    "# iterate over each neighbouring pair \n",
    "for i in neighbours(variables):\n",
    "    \n",
    "    n1, n2 = i\n",
    "    var, set_vars = diff_neighbours(n1, n2)\n",
    "    \n",
    "    # go through list of dictionaries\n",
    "    for cpnet in cp_list:\n",
    "        \n",
    "        # search for all keys which are a subset of the set\n",
    "        prefs = matching_preferences(cpnet, set_vars)\n",
    "        \n",
    "        # TODO: what do we do, if we have conflicting preferences?\n",
    "    \n",
    "\n",
    "#     collect corresponding rules from CP-Nets\n",
    "#     apply majority rule\n",
    "\n",
    "\n",
    "# simplify rule set\n",
    "# measure number of rules\n",
    "# measure also number of edges?? -> is that easily possible?"
   ]
  },
  {
   "cell_type": "code",
   "execution_count": null,
   "metadata": {},
   "outputs": [],
   "source": []
  }
 ],
 "metadata": {
  "kernelspec": {
   "display_name": "Python 3",
   "language": "python",
   "name": "python3"
  },
  "language_info": {
   "codemirror_mode": {
    "name": "ipython",
    "version": 3
   },
   "file_extension": ".py",
   "mimetype": "text/x-python",
   "name": "python",
   "nbconvert_exporter": "python",
   "pygments_lexer": "ipython3",
   "version": "3.7.4"
  }
 },
 "nbformat": 4,
 "nbformat_minor": 2
}
