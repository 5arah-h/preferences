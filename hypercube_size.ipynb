{
 "cells": [
  {
   "cell_type": "markdown",
   "metadata": {},
   "source": [
    "# Testing the size of the aggregated Hypercube"
   ]
  },
  {
   "cell_type": "markdown",
   "metadata": {},
   "source": [
    "Used CP-Nets"
   ]
  },
  {
   "cell_type": "code",
   "execution_count": 99,
   "metadata": {},
   "outputs": [],
   "source": [
    "# list of names to use\n",
    "files = [\"cpnet_n3c2d2_0000.xml\", \"cpnet_n3c2d2_0001.xml\"]\n",
    "#files = [\"cpnet_n2c1d2_0000.xml\", \"cpnet_n2c1d2_0001.xml\", \"cpnet_n2c1d2_0002.xml\"]\n",
    "\n",
    "# get n value\n",
    "n = files[0][7:9]\n",
    "if not n.isdigit():\n",
    "    n = n[0]\n",
    "n = int(n)    \n",
    "    \n",
    "# should we check whether n value is the same for all files??          "
   ]
  },
  {
   "cell_type": "code",
   "execution_count": 100,
   "metadata": {},
   "outputs": [],
   "source": [
    "\"\"\"\n",
    "genrates a list of the used variables\n",
    "\"\"\"\n",
    "def get_variables(n):\n",
    "    vars = []\n",
    "    for i in range(1,n+1):\n",
    "        vars.append(\"x\" + str(i))\n",
    "    return vars \n",
    "\n",
    "variables = get_variables(n)"
   ]
  },
  {
   "cell_type": "markdown",
   "metadata": {},
   "source": [
    "Helper functions for generating a data structure of the XML files"
   ]
  },
  {
   "cell_type": "markdown",
   "metadata": {},
   "source": [
    "This only functions for binary domain cpnets!! (because the data structure simplifies the preference)"
   ]
  },
  {
   "cell_type": "code",
   "execution_count": 101,
   "metadata": {},
   "outputs": [],
   "source": [
    "\"\"\"\n",
    "forms a string representing the preference, e.g. x1=2  (from x1 and 2:1) \n",
    "meaning x1=2 is preferred over x1=1\n",
    "\"\"\"\n",
    "def reform_pref_string(variable, preference):\n",
    "    new_string = variable + \"=\" + preference.split(\":\")[0]\n",
    "    return new_string\n",
    "\n",
    "\"\"\"\n",
    "Input - ordered dict of a CP-Net formed by xmltodict\n",
    "Output - a dictionary representing the rules\n",
    "\"\"\"\n",
    "def generating_rules(cpnet_dict):\n",
    "    rules = {}\n",
    "    for rule in cpnet_dict['PREFERENCE-SPECIFICATION']['PREFERENCE-STATEMENT']:\n",
    "        variable_name = rule['PREFERENCE-VARIABLE'] #e.g. x1\n",
    "        preference = rule['PREFERENCE'] #e.g. 2:1\n",
    "        conditions = []\n",
    "        if len(rule) > 3: # can be a list of conditions or a single item e.g. x2=2 or [x1=2, x2=2]\n",
    "            conditions = rule['CONDITION']\n",
    "            if type(rule['CONDITION']) is str:\n",
    "                conditions = [conditions]\n",
    "                \n",
    "        cond_set = frozenset(conditions)\n",
    "        pref = reform_pref_string(variable_name, preference)\n",
    "        \n",
    "        # add rule to the dictionary\n",
    "        if cond_set in rules:\n",
    "            rules[cond_set].append(pref)\n",
    "        else:\n",
    "            rules[cond_set] = [pref]  \n",
    "            \n",
    "    return rules              "
   ]
  },
  {
   "cell_type": "markdown",
   "metadata": {},
   "source": [
    "Reading XML files and generating a data structure which represent the rules of the CP-Net (a list of dictionaries)"
   ]
  },
  {
   "cell_type": "code",
   "execution_count": 102,
   "metadata": {
    "scrolled": true
   },
   "outputs": [
    {
     "name": "stdout",
     "output_type": "stream",
     "text": [
      "{frozenset({'x2=1'}): ['x1=1'], frozenset({'x2=2'}): ['x1=2'], frozenset(): ['x2=1'], frozenset({'x1=1', 'x2=1'}): ['x3=2'], frozenset({'x1=1', 'x2=2'}): ['x3=2'], frozenset({'x1=2', 'x2=1'}): ['x3=2'], frozenset({'x1=2', 'x2=2'}): ['x3=1']}\n",
      "{frozenset(): ['x1=1', 'x2=1'], frozenset({'x1=1', 'x2=1'}): ['x3=2'], frozenset({'x1=1', 'x2=2'}): ['x3=1'], frozenset({'x1=2', 'x2=1'}): ['x3=2'], frozenset({'x1=2', 'x2=2'}): ['x3=2']}\n"
     ]
    }
   ],
   "source": [
    "import xmltodict\n",
    "\n",
    "cp_list = []\n",
    "for file in files:\n",
    "    with open(\"./CPNets/\" + file) as fd:\n",
    "        doc = xmltodict.parse(fd.read())\n",
    "        cp = generating_rules(doc)\n",
    "        cp_list.append(cp)\n",
    "        \n",
    "        print(cp)       "
   ]
  },
  {
   "cell_type": "markdown",
   "metadata": {},
   "source": [
    "Aggregating the CP-Nets to one hypercube CP-Net"
   ]
  },
  {
   "cell_type": "code",
   "execution_count": 103,
   "metadata": {},
   "outputs": [],
   "source": [
    "\"\"\"\n",
    "Generator for tuples of neighbours in the hypercube graph. Returns only positive variables.\n",
    "If not included, the variable is negative.\n",
    "TODO: Works though, but generates things double...\n",
    "\"\"\"\n",
    "def neighbours(seq_orig):\n",
    "    seq = seq_orig.copy()\n",
    "    for item in range(len(seq)):\n",
    "        seq.pop(item)    \n",
    "        yield (seq_orig, seq)\n",
    "        yield from neighbours(seq)\n",
    "        seq = seq_orig.copy()\n",
    "\n",
    "#seq = [\"x1\", \"x2\", \"x3\", \"x4\"]        \n",
    "#for i  in neighbours(seq):\n",
    "#    print(i)"
   ]
  },
  {
   "cell_type": "code",
   "execution_count": 104,
   "metadata": {},
   "outputs": [],
   "source": [
    "\"\"\"\n",
    "Helper function for formatting\n",
    "Input: two neighbours as returned by neighbour function\n",
    "Output: Tuple - first element the varying variable between the elements, second and third element set of constant variables (only differently formatted)\n",
    "\"\"\"\n",
    "def diff_neighbours(seq1, seq2, vars):\n",
    "    ones = set(seq1).intersection(seq2)\n",
    "    varying = set(seq1).difference(seq2)\n",
    "    twos = set(vars).difference(seq1)\n",
    "    return (varying.pop(), set([i+\"=1\" for i in ones]).union([i+\"=2\" for i in twos]))\n"
   ]
  },
  {
   "cell_type": "code",
   "execution_count": 105,
   "metadata": {},
   "outputs": [],
   "source": [
    "\"\"\"\n",
    "For searching for matching rules in the dictionary (for a pair of neighbours in the hypercube)\n",
    "\"\"\"\n",
    "def matching_preferences(dictionary, premises, variable):\n",
    "    prefs = []\n",
    "    for key in dictionary:\n",
    "        if key <= premises:\n",
    "            for pref in dictionary[key]:\n",
    "                if pref.startswith(variable):\n",
    "                    prefs.append(pref)\n",
    "    return prefs        "
   ]
  },
  {
   "cell_type": "code",
   "execution_count": 106,
   "metadata": {},
   "outputs": [],
   "source": [
    "\"\"\"\n",
    "Applying majority rule to collected preferences\n",
    "\"\"\"\n",
    "def maj_rule(prefs):\n",
    "    votes_ones = 0\n",
    "    votes_twos = 0\n",
    "    \n",
    "    for pref in prefs:\n",
    "        if pref.endswith(\"1\"):\n",
    "            votes_ones += 1\n",
    "        elif pref.endswith(\"2\"):\n",
    "            votes_twos += 1\n",
    "        else:\n",
    "            print(\"Error: \" + pref)\n",
    "            \n",
    "    if votes_ones > votes_twos:\n",
    "        return \"1\"\n",
    "    elif votes_ones < votes_twos:\n",
    "        return \"2\"\n",
    "    else:\n",
    "        return \"0\"\n",
    "    \n"
   ]
  },
  {
   "cell_type": "code",
   "execution_count": 108,
   "metadata": {
    "scrolled": true
   },
   "outputs": [
    {
     "name": "stdout",
     "output_type": "stream",
     "text": [
      "{frozenset({'x3=1', 'x2=1'}): {'x1=1'}, frozenset({'x1=2', 'x3=1'}): {'x2=1'}, frozenset({'x1=2', 'x2=2'}): {'x3=0'}, frozenset({'x1=2', 'x2=1'}): {'x3=2'}, frozenset({'x1=2', 'x3=2'}): {'x2=1'}, frozenset({'x1=1', 'x3=1'}): {'x2=1'}, frozenset({'x2=2', 'x3=1'}): {'x1=0'}, frozenset({'x1=1', 'x2=2'}): {'x3=0'}, frozenset({'x2=2', 'x3=2'}): {'x1=0'}, frozenset({'x1=1', 'x2=1'}): {'x3=2'}, frozenset({'x2=1', 'x3=2'}): {'x1=1'}, frozenset({'x1=1', 'x3=2'}): {'x2=1'}}\n"
     ]
    }
   ],
   "source": [
    "# iterate over each neighbouring pair\n",
    "aggr_rules = {}\n",
    "for i in neighbours(variables):\n",
    "\n",
    "    n1, n2 = i\n",
    "    var, set_vars = diff_neighbours(n1, n2, variables)\n",
    "    \n",
    "    # go through list of dictionaries\n",
    "    # collecting preferences from each profile\n",
    "    preferences = []\n",
    "    for cpnet in cp_list:\n",
    "        \n",
    "        # search for matching preferences\n",
    "        prefs = matching_preferences(cpnet, set_vars, var)\n",
    "        \n",
    "        # TODO: what do we do, if we have conflicting preferences? is that possible?\n",
    "        preferences= preferences + prefs\n",
    "    \n",
    "    # applying majority rule\n",
    "    aggr_pref = maj_rule(preferences)  \n",
    "\n",
    "    # build aggregated rule\n",
    "    prem = frozenset(set_vars)\n",
    "    if prem not in aggr_rules:\n",
    "        aggr_rules[prem] = {reform_pref_string(var, aggr_pref)}        \n",
    "    else:\n",
    "        aggr_rules[prem].add(reform_pref_string(var, aggr_pref))\n",
    "\n",
    "print(aggr_rules)   \n",
    "        \n"
   ]
  },
  {
   "cell_type": "code",
   "execution_count": 109,
   "metadata": {},
   "outputs": [
    {
     "name": "stdout",
     "output_type": "stream",
     "text": [
      "{frozenset({'x2=1'}): {'x1=1', 'x3=2'}, frozenset({'x2=2'}): {'x3=0', 'x1=0'}, frozenset(): {'x2=1'}}\n"
     ]
    }
   ],
   "source": [
    "# simplify the rule set\n",
    "from itertools import combinations\n",
    "for i in range(n-1, 0, -1):\n",
    "    for subset in list(combinations(variables, i)):\n",
    "        for i in neighbours(list(subset)):\n",
    "\n",
    "            n1_orig, n2_orig = i\n",
    "            var, set_vars_orig = diff_neighbours(n1_orig, n2_orig, subset)\n",
    "\n",
    "            n1 = frozenset(set_vars_orig.union({var+\"=1\"})) \n",
    "            n2 = frozenset(set_vars_orig.union({var+\"=2\"}))\n",
    "\n",
    "            set_vars = frozenset(set_vars_orig)\n",
    "\n",
    "            if n1 in aggr_rules and n2 in aggr_rules:\n",
    "                   \n",
    "                intersection = aggr_rules[n1].intersection(aggr_rules[n2])\n",
    "                diff_n1 = aggr_rules[n1].difference(aggr_rules[n2])\n",
    "                diff_n2 = aggr_rules[n2].difference(aggr_rules[n1])\n",
    "\n",
    "                if not not intersection:# elements are in the intersection\n",
    "                    \n",
    "                    aggr_rules.pop(n1)\n",
    "                    aggr_rules.pop(n2)\n",
    "                    \n",
    "                    if set_vars not in aggr_rules:\n",
    "                        aggr_rules[set_vars] = intersection       \n",
    "                    else:\n",
    "                        aggr_rules[set_vars].add(intersection.pop())\n",
    "                    \n",
    "                    if not not diff_n1: # TODO: funktioniert das?\n",
    "                        aggr_rules[n1] = diff_n1\n",
    "                    if not not diff_n2:\n",
    "                        aggr_rules[n2] = diff_n2\n",
    "\n",
    "print(aggr_rules)"
   ]
  },
  {
   "cell_type": "code",
   "execution_count": 110,
   "metadata": {},
   "outputs": [
    {
     "name": "stdout",
     "output_type": "stream",
     "text": [
      "5\n"
     ]
    }
   ],
   "source": [
    "# measure number of rules \n",
    "count = 0 # elements in the dictionary have to be counted\n",
    "for key in aggr_rules:\n",
    "    count += len(aggr_rules[key])\n",
    "print(count)"
   ]
  },
  {
   "cell_type": "code",
   "execution_count": 112,
   "metadata": {},
   "outputs": [
    {
     "name": "stdout",
     "output_type": "stream",
     "text": [
      "2\n"
     ]
    }
   ],
   "source": [
    "# measure number of indifferences\n",
    "count = 0\n",
    "for key in aggr_rules:\n",
    "    for elem in aggr_rules[key]:\n",
    "        if elem.endswith(\"0\"):\n",
    "            count += 1\n",
    "print(count)"
   ]
  },
  {
   "cell_type": "code",
   "execution_count": null,
   "metadata": {},
   "outputs": [],
   "source": [
    "# measure also number of edges?? -> is that easily possible?"
   ]
  }
 ],
 "metadata": {
  "kernelspec": {
   "display_name": "Python 3",
   "language": "python",
   "name": "python3"
  },
  "language_info": {
   "codemirror_mode": {
    "name": "ipython",
    "version": 3
   },
   "file_extension": ".py",
   "mimetype": "text/x-python",
   "name": "python",
   "nbconvert_exporter": "python",
   "pygments_lexer": "ipython3",
   "version": "3.7.4"
  }
 },
 "nbformat": 4,
 "nbformat_minor": 2
}
